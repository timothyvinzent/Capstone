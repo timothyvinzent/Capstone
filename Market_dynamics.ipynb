{
 "cells": [
  {
   "cell_type": "code",
   "execution_count": 1,
   "metadata": {},
   "outputs": [],
   "source": [
    "import pandas as pd\n",
    "import numpy as np\n"
   ]
  },
  {
   "cell_type": "code",
   "execution_count": 2,
   "metadata": {},
   "outputs": [],
   "source": [
    "df_exports = pd.read_csv(\"Market dynamics/Exports_Rwanda.csv\")\n",
    "df_imports = pd.read_csv(\"Market dynamics/Imports_Rwanda.csv\")\n",
    "df_prod_quant = pd.read_csv(\"Market dynamics/Production Quantity Rwanda.csv\")\n",
    "df_prod_value = pd.read_csv(\"Market dynamics/Production Value Rwanda.csv\")"
   ]
  },
  {
   "cell_type": "code",
   "execution_count": 3,
   "metadata": {},
   "outputs": [
    {
     "data": {
      "text/plain": [
       "Index(['Domain Code', 'Domain', 'Area Code (M49)', 'Area', 'Element Code',\n",
       "       'Element', 'Item Code (CPC)', 'Item', 'Year Code', 'Year', 'Unit',\n",
       "       'Value', 'Flag', 'Flag Description'],\n",
       "      dtype='object')"
      ]
     },
     "execution_count": 3,
     "metadata": {},
     "output_type": "execute_result"
    }
   ],
   "source": [
    "df_exports.columns\n",
    "len"
   ]
  },
  {
   "cell_type": "code",
   "execution_count": 7,
   "metadata": {},
   "outputs": [
    {
     "data": {
      "text/plain": [
       "Index(['Domain Code', 'Domain', 'Area Code (M49)', 'Area', 'Element Code',\n",
       "       'Element', 'Item Code (CPC)', 'Item', 'Year Code', 'Year', 'Unit',\n",
       "       'Value', 'Flag', 'Flag Description'],\n",
       "      dtype='object')"
      ]
     },
     "execution_count": 7,
     "metadata": {},
     "output_type": "execute_result"
    }
   ],
   "source": [
    "df_imports.columns"
   ]
  },
  {
   "cell_type": "code",
   "execution_count": 8,
   "metadata": {},
   "outputs": [
    {
     "data": {
      "text/plain": [
       "Index(['Domain Code', 'Domain', 'Area Code (M49)', 'Area', 'Element Code',\n",
       "       'Element', 'Item Code (CPC)', 'Item', 'Year Code', 'Year', 'Unit',\n",
       "       'Value', 'Flag', 'Flag Description'],\n",
       "      dtype='object')"
      ]
     },
     "execution_count": 8,
     "metadata": {},
     "output_type": "execute_result"
    }
   ],
   "source": [
    "df_prod_quant.columns"
   ]
  },
  {
   "cell_type": "code",
   "execution_count": 9,
   "metadata": {},
   "outputs": [],
   "source": [
    "# delete all rows that have in the \"value\" columns the value \"0\"\n",
    "df_exports = df_exports[df_exports['Value'] != 0]\n",
    "df_imports = df_imports[df_imports['Value'] != 0]\n",
    "df_prod_quant = df_prod_quant[df_prod_quant['Value'] != 0]\n",
    "df_prod_value = df_prod_value[df_prod_value['Value'] != 0]\n",
    "\n",
    "# delete the columns \"Domain Code\", \"Domain\", \"Area Code\", \"Element Code\", \"Element\", \"Item Code\", \"Flag\", \"Flag Description\", \"Year Code\"\n",
    "df_exports = df_exports.drop(columns=['Domain Code', 'Domain', 'Area Code (M49)', 'Element Code', 'Element', 'Item Code (CPC)', 'Flag', 'Flag Description', 'Year Code'])\n",
    "df_imports = df_imports.drop(columns=['Domain Code', 'Domain', 'Area Code (M49)', 'Element Code', 'Element', 'Item Code (CPC)', 'Flag', 'Flag Description', 'Year Code'])\n",
    "df_prod_quant = df_prod_quant.drop(columns=['Domain Code', 'Domain', 'Area Code (M49)', 'Element Code', 'Element', 'Item Code (CPC)', 'Flag', 'Flag Description', 'Year Code'])\n",
    "df_prod_value = df_prod_value.drop(columns=['Domain Code', 'Domain', 'Area Code (M49)', 'Element Code', 'Element', 'Item Code (CPC)', 'Flag', 'Flag Description', 'Year Code'])"
   ]
  },
  {
   "cell_type": "code",
   "execution_count": 12,
   "metadata": {},
   "outputs": [],
   "source": [
    "# now we want to remove rows of the \"item\" column that we are not interested in, therefore we create a list of what we want to keep\n",
    "\n",
    "# create a list of all the items that we want to keep for the exports\n",
    "# create a list of all the items in the exports[\"Item\"] column and convert to list\n",
    "export_lst = df_exports[\"Item\"].tolist()"
   ]
  },
  {
   "cell_type": "code",
   "execution_count": 14,
   "metadata": {},
   "outputs": [],
   "source": [
    "export_lst = [\n",
    " 'Anise, badian, coriander, cumin, caraway, fennel and juniper berries, raw',\n",
    " 'Avocados',\n",
    " 'Bambara beans, dry',\n",
    " 'Bananas',\n",
    " 'Beans, dry',\n",
    " 'Carrots and turnips',\n",
    " 'Cassava, dry',\n",
    " 'Cauliflowers and broccoli',\n",
    " 'Chillies and peppers, dry (Capsicum spp., Pimenta spp.), raw',\n",
    " 'Chillies and peppers, green (Capsicum spp. and Pimenta spp.)',\n",
    " 'Coconuts, in shell',\n",
    " 'Coffee, green',\n",
    " 'Dates',\n",
    " 'Eggplants (aubergines)',\n",
    " 'Ginger, raw',\n",
    " 'Grapes',\n",
    " 'Green garlic',\n",
    " 'Husked rice',\n",
    " 'Maize (corn)',\n",
    " 'Mushrooms and truffles',\n",
    " 'Natural honey',\n",
    " 'Oats, rolled',\n",
    " 'Olives preserved',\n",
    " 'Onions and shallots, dry (excluding dehydrated)',\n",
    " 'Other beans, green',\n",
    " 'Other nuts (excluding wild edible nuts and groundnuts), in shell, n.e.c.',\n",
    " 'Other stimulant, spice and aromatic crops, n.e.c.',\n",
    " 'Other tropical fruits, n.e.c.',\n",
    " 'Other vegetables provisionally preserved',\n",
    " 'Other vegetables, fresh n.e.c.',\n",
    " 'Peas, dry',\n",
    " 'Pepper (Piper spp.), raw',\n",
    " 'Pineapples',\n",
    " 'Pistachios, in shell',\n",
    " 'Potatoes',\n",
    " 'Prepared groundnuts',\n",
    " 'Prepared nuts',\n",
    " 'Pumpkins, squash and gourds',\n",
    " 'Raisins',\n",
    " 'Raw cane or beet sugar (centrifugal only)',\n",
    " 'Rice',\n",
    " 'Rice, broken',\n",
    " 'Rice, milled',\n",
    " 'Sorghum',\n",
    " 'Soya beans',\n",
    " 'Strawberries',\n",
    " 'Sugar and syrups n.e.c.',\n",
    " 'Sugar cane',\n",
    " 'Sweet corn, prepared or preserved',\n",
    " 'Sweet potatoes',\n",
    " 'Tea leaves',\n",
    " 'Tomatoes',\n",
    " 'Vegetables frozen',\n",
    " 'Vegetables preserved (frozen)',\n",
    " 'Vegetables preserved nes (o/t vinegar)',\n",
    " 'Vegetables, dehydrated',\n",
    "'Wheat and meslin flour']"
   ]
  },
  {
   "cell_type": "code",
   "execution_count": 15,
   "metadata": {},
   "outputs": [],
   "source": [
    "# delete all rows that are not in the list of df_export and the list of export_lst\n",
    "df_exports = df_exports[df_exports['Item'].isin(export_lst)]"
   ]
  },
  {
   "cell_type": "code",
   "execution_count": 16,
   "metadata": {},
   "outputs": [],
   "source": [
    "imports_lst = df_imports[\"Item\"].tolist()"
   ]
  },
  {
   "cell_type": "code",
   "execution_count": 19,
   "metadata": {},
   "outputs": [],
   "source": [
    "df_imports = df_imports[df_imports['Item'].isin(imports_lst)]"
   ]
  },
  {
   "cell_type": "code",
   "execution_count": 18,
   "metadata": {},
   "outputs": [],
   "source": [
    "imports_lst = ['Almonds, shelled',\n",
    "\n",
    " 'Anise, badian, coriander, cumin, caraway, fennel and juniper berries, raw',\n",
    "\n",
    " 'Apples',\n",
    " 'Apricots, dried',\n",
    " 'Areca nuts',\n",
    " \n",
    " 'Bananas',\n",
    " 'Beans, dry',\n",
    "\n",
    "\n",
    "\n",
    "\n",
    "\n",
    "\n",
    "\n",
    "\n",
    "\n",
    " 'Cane sugar, non-centrifugal',\n",
    "\n",
    " 'Cashew nuts, in shell',\n",
    " 'Cashew nuts, shelled',\n",
    " 'Cassava, dry',\n",
    "\n",
    " 'Cereals n.e.c.',\n",
    "\n",
    " 'Chick peas, dry',\n",
    "\n",
    " 'Chillies and peppers, dry (Capsicum spp., Pimenta spp.), raw',\n",
    "\n",
    " 'Cinnamon and cinnamon-tree flowers, raw',\n",
    " 'Cloves (whole stems), raw',\n",
    "\n",
    "\n",
    " 'Coconuts, desiccated',\n",
    " 'Coconuts, in shell',\n",
    "\n",
    " 'Coffee, green',\n",
    " 'Dates',\n",
    "\n",
    " 'Dried mushrooms',\n",
    " 'Edible roots and tubers with high starch or inulin content, n.e.c., fresh',\n",
    "\n",
    "\n",
    " 'Figs',\n",
    " 'Flour of cereals n.e.c.',\n",
    " 'Flour of fruits',\n",
    " 'Flour of maize',\n",
    " 'Flour of mustard seed',\n",
    " 'Flour of pulses',\n",
    " 'Flour of roots and tubers n.e.c.',\n",
    "\n",
    "\n",
    "\n",
    "\n",
    "\n",
    "\n",
    "\n",
    " 'Ginger, raw',\n",
    "\n",
    "\n",
    "\n",
    " 'Grapes',\n",
    " 'Green garlic',\n",
    "\n",
    " 'Groundnuts, excluding shelled',\n",
    " 'Groundnuts, shelled',\n",
    "\n",
    " 'Hazelnuts, in shell',\n",
    "\n",
    "\n",
    "\n",
    "\n",
    "\n",
    "\n",
    "\n",
    " 'Kiwi fruit',\n",
    "\n",
    " 'Lemons and limes',\n",
    " 'Lentils, dry',\n",
    " 'Linseed',\n",
    "\n",
    " 'Maize (corn)',\n",
    "\n",
    " 'Melonseed',\n",
    " 'Millet',\n",
    "\n",
    "\n",
    " 'Mushrooms and truffles',\n",
    "\n",
    " 'Mustard seed',\n",
    " 'Natural honey',\n",
    "\n",
    " 'Nutmeg, mace, cardamoms, raw',\n",
    " 'Oats',\n",
    " 'Oats, rolled',\n",
    "\n",
    "\n",
    " 'Olives preserved',\n",
    " 'Onions and shallots, dry (excluding dehydrated)',\n",
    "\n",
    "\n",
    " 'Oranges',\n",
    " 'Other citrus fruit, n.e.c.',\n",
    " 'Other fibre crops, raw, n.e.c.',\n",
    "\n",
    "\n",
    " 'Other fruit n.e.c., dried',\n",
    " 'Other fruits, n.e.c.',\n",
    "\n",
    " 'Other nuts (excluding wild edible nuts and groundnuts), in shell, n.e.c.',\n",
    "\n",
    " 'Other stimulant, spice and aromatic crops, n.e.c.',\n",
    " 'Other tropical fruits, n.e.c.',\n",
    "\n",
    " 'Other vegetables, fresh n.e.c.',\n",
    "\n",
    "\n",
    " 'Peas, dry',\n",
    " 'Pepper (Piper spp.), raw',\n",
    "\n",
    " 'Pigeon peas, dry',\n",
    "\n",
    " 'Pistachios, in shell',\n",
    " 'Plantains and cooking bananas',\n",
    " 'Plums, dried',\n",
    " 'Pomelos and grapefruits',\n",
    " 'Poppy seed',\n",
    " 'Potatoes',\n",
    " 'Potatoes, frozen',\n",
    "\n",
    " 'Prepared groundnuts',\n",
    " 'Prepared nuts',\n",
    "\n",
    " 'Pumpkins, squash and gourds',\n",
    " 'Quinoa',\n",
    " 'Raisins',\n",
    " 'Rape or colza seed',\n",
    "\n",
    "\n",
    " 'Rice',\n",
    " 'Rice, broken',\n",
    " 'Rice, milled',\n",
    "\n",
    " 'Sesame seed',\n",
    "\n",
    " 'Sorghum',\n",
    " 'Sour cherries',\n",
    "\n",
    " 'Soya beans',\n",
    "\n",
    " 'Sugar and syrups n.e.c.',\n",
    "\n",
    " 'Sunflower seed',\n",
    "\n",
    " 'Sweet corn, frozen',\n",
    " 'Sweet corn, prepared or preserved',\n",
    " 'Sweet potatoes',\n",
    "\n",
    " 'Tea leaves',\n",
    "\n",
    " 'Tomatoes',\n",
    "\n",
    " 'Vanilla, raw',\n",
    "\n",
    " 'Vegetables frozen',\n",
    " 'Vegetables preserved (frozen)',\n",
    " 'Vegetables preserved nes (o/t vinegar)',\n",
    " 'Vegetables, dehydrated',\n",
    " 'Walnuts, shelled',\n",
    " 'Watermelons',\n",
    " 'Wheat',\n",
    " 'Wheat and meslin flour']"
   ]
  }
 ],
 "metadata": {
  "kernelspec": {
   "display_name": "base",
   "language": "python",
   "name": "python3"
  },
  "language_info": {
   "codemirror_mode": {
    "name": "ipython",
    "version": 3
   },
   "file_extension": ".py",
   "mimetype": "text/x-python",
   "name": "python",
   "nbconvert_exporter": "python",
   "pygments_lexer": "ipython3",
   "version": "3.9.13"
  },
  "orig_nbformat": 4
 },
 "nbformat": 4,
 "nbformat_minor": 2
}
