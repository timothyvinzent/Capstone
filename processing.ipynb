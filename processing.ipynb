{
 "cells": [
  {
   "cell_type": "code",
   "execution_count": 1,
   "metadata": {},
   "outputs": [
    {
     "name": "stdout",
     "output_type": "stream",
     "text": [
      "Please install CDO version 1.9.7 or above: https://code.mpimet.mpg.de/projects/cdo/ or https://anaconda.org/conda-forge/cdo\n"
     ]
    }
   ],
   "source": [
    "import cdsapi\n",
    "import nctoolkit as nc\n",
    "import matplotlib.pyplot as plt\n",
    "import pandas as pd\n",
    "import tarfile "
   ]
  },
  {
   "cell_type": "code",
   "execution_count": 14,
   "metadata": {},
   "outputs": [],
   "source": [
    "with tarfile.open('data_1979_06.tar.gz', 'r:gz') as tar:\n",
    "    # Extract all .nc files from the .tar.gz file\n",
    "    tar.extractall(path='data2')"
   ]
  },
  {
   "cell_type": "code",
   "execution_count": 15,
   "metadata": {},
   "outputs": [],
   "source": [
    "ds = nc.open_data(\"data2/*.nc\")\n",
    "df_1 = ds.to_dataframe()"
   ]
  },
  {
   "attachments": {},
   "cell_type": "markdown",
   "metadata": {},
   "source": [
    "Delete the tar.gz file\n",
    "Delete the data folder\n",
    "Filter the dataframe"
   ]
  },
  {
   "cell_type": "code",
   "execution_count": 16,
   "metadata": {},
   "outputs": [],
   "source": [
    "df_1 = df_1.reset_index()"
   ]
  },
  {
   "cell_type": "code",
   "execution_count": 7,
   "metadata": {},
   "outputs": [
    {
     "name": "stdout",
     "output_type": "stream",
     "text": [
      "Index(['time', 'lon', 'lat', 'Temperature_Air_2m_Max_24h',\n",
      "       'Temperature_Air_2m_Max_Day_Time', 'Temperature_Air_2m_Mean_24h',\n",
      "       'Temperature_Air_2m_Mean_Day_Time',\n",
      "       'Temperature_Air_2m_Mean_Night_Time', 'Temperature_Air_2m_Min_24h',\n",
      "       'Temperature_Air_2m_Min_Night_Time'],\n",
      "      dtype='object')\n"
     ]
    }
   ],
   "source": [
    "column_names = df_1.columns\n",
    "\n",
    "print(column_names)"
   ]
  },
  {
   "cell_type": "code",
   "execution_count": 19,
   "metadata": {},
   "outputs": [],
   "source": [
    "df_1= df_1.dropna(thresh=7, subset=['Temperature_Air_2m_Max_24h',\n",
    "       'Temperature_Air_2m_Max_Day_Time', 'Temperature_Air_2m_Mean_24h',\n",
    "       'Temperature_Air_2m_Mean_Day_Time',\n",
    "       'Temperature_Air_2m_Mean_Night_Time', 'Temperature_Air_2m_Min_24h',\n",
    "       'Temperature_Air_2m_Min_Night_Time'])\n",
    "\n",
    "\n",
    "#target_lat = 47.4332215869252\n",
    "#target_lon = 9.37558019624494\n",
    "\n",
    "#df_1['distance'] = ((df_1['lat'] - target_lat)**2 + (df_1['lon'] - target_lon)**2)**0.5"
   ]
  },
  {
   "cell_type": "code",
   "execution_count": 17,
   "metadata": {},
   "outputs": [],
   "source": [
    "# Define the coordinate ranges for Switzerland, France, and Rwanda\n",
    "switzerland_lat_range = (45.8172, 47.8087)\n",
    "switzerland_long_range = (5.9569, 10.4922)\n",
    "\n",
    "france_lat_range = (41.3712, 51.0918)\n",
    "france_long_range = (-5.1428, 9.5600)\n",
    "\n",
    "rwanda_lat_range = (-2.8400, -1.0471)\n",
    "rwanda_long_range = (28.8614, 30.8958)\n",
    "\n",
    "# Filter the DataFrame based on the coordinate ranges\n",
    "df_1 = df_1[\n",
    "    ((df_1['lat'] >= switzerland_lat_range[0]) & (df_1['lat'] <= switzerland_lat_range[1])) &\n",
    "    ((df_1['lon'] >= switzerland_long_range[0]) & (df_1['lon'] <= switzerland_long_range[1])) |\n",
    "    ((df_1['lat'] >= france_lat_range[0]) & (df_1['lat'] <= france_lat_range[1])) &\n",
    "    ((df_1['lon'] >= france_long_range[0]) & (df_1['lon'] <= france_long_range[1])) |\n",
    "    ((df_1['lat'] >= rwanda_lat_range[0]) & (df_1['lat'] <= rwanda_lat_range[1])) &\n",
    "    ((df_1['lon'] >= rwanda_long_range[0]) & (df_1['lon'] <= rwanda_long_range[1]))\n",
    "]"
   ]
  },
  {
   "cell_type": "code",
   "execution_count": 20,
   "metadata": {},
   "outputs": [
    {
     "name": "stdout",
     "output_type": "stream",
     "text": [
      "1076803\n"
     ]
    }
   ],
   "source": [
    "print(len(df_1))"
   ]
  },
  {
   "cell_type": "code",
   "execution_count": 21,
   "metadata": {},
   "outputs": [],
   "source": [
    "df_1.to_csv('1979_4-6.csv', index=False)"
   ]
  }
 ],
 "metadata": {
  "kernelspec": {
   "display_name": "base",
   "language": "python",
   "name": "python3"
  },
  "language_info": {
   "codemirror_mode": {
    "name": "ipython",
    "version": 3
   },
   "file_extension": ".py",
   "mimetype": "text/x-python",
   "name": "python",
   "nbconvert_exporter": "python",
   "pygments_lexer": "ipython3",
   "version": "3.9.13"
  },
  "orig_nbformat": 4
 },
 "nbformat": 4,
 "nbformat_minor": 2
}
